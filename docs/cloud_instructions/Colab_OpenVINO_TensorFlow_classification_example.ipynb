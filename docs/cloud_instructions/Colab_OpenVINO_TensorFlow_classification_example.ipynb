{
 "cells": [
  {
   "cell_type": "markdown",
   "metadata": {
    "id": "dT0u-5Ix-JG5"
   },
   "source": [
    "[![Open In Colab](https://colab.research.google.com/assets/colab-badge.svg)](https://colab.research.google.com/github/openvinotoolkit/openvino_tensorflow/blob/master/docs/cloud_instructions/Colab_OpenVINO_TensorFlow_classification_example.ipynb)"
   ]
  },
  {
   "cell_type": "markdown",
   "metadata": {
    "id": "m0NqXHZ9pg82"
   },
   "source": [
    "## INSTALL OpenVINO™ integration with TensorFlow\n"
   ]
  },
  {
   "cell_type": "code",
   "execution_count": null,
   "metadata": {
    "id": "uOk7Kisgh1Nw"
   },
   "outputs": [],
   "source": [
    "# Upload the required wheel files, models and images in a google drive folder\n",
    "# Uncomment and run the below command to copy them in your current workspace\n",
    "#!cp /content/drive/MyDrive/TF-OV/working_dir_files/* . \n",
    "\n",
    "!pip -q install --upgrade pip\n",
    "!pip -q install pillow\n",
    "\n",
    "# Install stock TensorFlow\n",
    "!pip -q install tensorflow==2.7.0 \n",
    "\n",
    "# Install OpenVINO™ integration with TensorFlow\n",
    "!pip -q install openvino-tensorflow"
   ]
  },
  {
   "cell_type": "code",
   "execution_count": null,
   "metadata": {
    "id": "sgy6S1B_rW9d"
   },
   "outputs": [],
   "source": [
    "!ldd --version\n",
    "!python3 --version"
   ]
  },
  {
   "cell_type": "code",
   "execution_count": null,
   "metadata": {
    "id": "2MkE439_ybZB"
   },
   "outputs": [],
   "source": [
    "!git clone --quiet https://github.com/openvinotoolkit/openvino_tensorflow.git\n",
    "%cd openvino_tensorflow\n",
    "!git submodule init\n",
    "!git submodule update --recursive\n"
   ]
  },
  {
   "cell_type": "markdown",
   "metadata": {
    "id": "tDQDLFx69izd"
   },
   "source": [
    "# Now lets infer"
   ]
  },
  {
   "cell_type": "code",
   "execution_count": 90,
   "metadata": {
    "id": "1EImyzDiiHGW"
   },
   "outputs": [],
   "source": [
    "from __future__ import absolute_import, division, print_function, unicode_literals\n",
    "from IPython.display import HTML\n",
    "\n",
    "import os\n",
    "import numpy as np\n",
    "import tensorflow as tf\n",
    "import openvino_tensorflow as ovtf\n",
    "import tensorflow_hub as hub\n",
    "\n",
    "from PIL import Image\n",
    "import time"
   ]
  },
  {
   "cell_type": "code",
   "execution_count": 101,
   "metadata": {
    "id": "h7Hlw2oDZXgu"
   },
   "outputs": [],
   "source": [
    "def preprocess_image(file_name,\n",
    "               input_height=299,\n",
    "               input_width=299,\n",
    "               input_mean=0,\n",
    "               input_std=255):\n",
    "    \"\"\"Reads input image file, resize it to given input height and width.\n",
    "       Preprocesses input image using Keras api and returns the image\n",
    "    \"\"\"  \n",
    "    image = Image.open(file_name)\n",
    "    resized_image = image.resize((input_height,input_width))\n",
    "    resized_image = np.asarray(resized_image, np.float32)\n",
    "    normalized_image = (resized_image - input_mean) / input_std\n",
    "    result = np.expand_dims(normalized_image, 0)\n",
    "    return result"
   ]
  },
  {
   "cell_type": "code",
   "execution_count": 102,
   "metadata": {
    "id": "Mt54fcWXZbZA"
   },
   "outputs": [],
   "source": [
    "def load_labels(label_file):\n",
    "    \"\"\"Parses the label file, assuming that labels are separated with a newline\n",
    "       in the file and returns the list of labels.\n",
    "    \"\"\"  \n",
    "    label = []\n",
    "    proto_as_ascii_lines = tf.io.gfile.GFile(label_file).readlines()\n",
    "    for l in proto_as_ascii_lines:\n",
    "        label.append(l.rstrip())\n",
    "    return label"
   ]
  },
  {
   "cell_type": "code",
   "execution_count": 103,
   "metadata": {
    "id": "e812DUX92T43"
   },
   "outputs": [],
   "source": [
    "def infer_openvino_tensorflow(model_file, file_name , input_height, input_width, input_mean, input_std, label_file):\n",
    "    \"\"\"Takes the tensorflow model and all other input parameters as arguments. \n",
    "       Run inference on the classification model and prints the predictions.\n",
    "    \"\"\"\n",
    "    print(\"CREATE MODEL - BEGIN\")\n",
    "    if model_file==\"\":\n",
    "      model = hub.load(\"https://tfhub.dev/google/imagenet/inception_v3/classification/4\")\n",
    "    else:\n",
    "      model = tf.saved_model.load(model_file)\n",
    "    print(\"CREATE MODEL - END\")\n",
    "\n",
    "    print(\"PREDICTION - BEGIN\") \n",
    "\n",
    "    img =  tf.convert_to_tensor(preprocess_image(\n",
    "            file_name, input_height=input_height, input_width=input_width, input_mean=input_mean, input_std=input_std))\n",
    "\n",
    "    # Warmup\n",
    "    results = model(img)\n",
    "    # Run\n",
    "    \n",
    "    for num_times in range(10):\n",
    "        start = time.time()\n",
    "        results = model(img)\n",
    "        elapsed = time.time() - start\n",
    "        print('Inference time in ms: %f' % (elapsed * 1000))\n",
    "            \n",
    "    print(\"PREDICTION - END\")\n",
    "    results = tf.nn.softmax(results).numpy()\n",
    "    \n",
    "    if label_file:\n",
    "        top_5 = tf.argsort(results, axis=-1, direction=\"DESCENDING\")[0][:5].numpy()\n",
    "        labels = load_labels(label_file)\n",
    "        for i,item in enumerate(top_5):\n",
    "            print(labels[item], results[0][top_5][i])\n",
    "    else:\n",
    "        print(\"No label file provided. Cannot print classification results\")"
   ]
  },
  {
   "cell_type": "code",
   "execution_count": null,
   "metadata": {
    "id": "_Dr7HWdgZds6"
   },
   "outputs": [],
   "source": [
    "file_name = tf.keras.utils.get_file(\n",
    "    'grace_hopper.jpg',\n",
    "    \"https://www.tensorflow.org/images/grace_hopper.jpg\")\n",
    "model_file = \"\"\n",
    "label_file = tf.keras.utils.get_file(\n",
    "    'ImageNetLabels.txt',\n",
    "    'https://storage.googleapis.com/download.tensorflow.org/data/ImageNetLabels.txt')\n",
    "input_height = 299\n",
    "input_width = 299\n",
    "input_mean = 0\n",
    "input_std = 255\n",
    "backend_name = \"CPU\"\n",
    "    \n",
    "\n",
    "#Print list of available backends\n",
    "print('Available Backends:')\n",
    "backends_list = ovtf.list_backends()\n",
    "for backend in backends_list:\n",
    "    print(backend)\n",
    "ovtf.set_backend(backend_name)\n",
    "\n",
    "print(\"OpenVINO TensorFlow is enabled\")\n",
    "infer_openvino_tensorflow(model_file, file_name, input_height, input_width, input_mean, input_std, label_file)"
   ]
  },
  {
   "cell_type": "code",
   "execution_count": null,
   "metadata": {
    "id": "nQXt492OASb8"
   },
   "outputs": [],
   "source": [
    "#Disable\n",
    "ovtf.disable()\n",
    "print(\"\")\n",
    "print(\"\")\n",
    "print(\"OpenVINO TensorFlow is disabled\")\n",
    "infer_openvino_tensorflow(model_file, file_name, input_height, input_width, input_mean, input_std, label_file )\n",
    "ovtf.enable()\n"
   ]
  }
 ],
 "metadata": {
  "colab": {
   "collapsed_sections": [],
   "name": "Copy of Colab_OpenVINO_TensorFlow_classification_example.ipynb",
   "provenance": []
  },
  "kernelspec": {
   "display_name": "Python 3",
   "language": "python",
   "name": "python3"
  },
  "language_info": {
   "codemirror_mode": {
    "name": "ipython",
    "version": 3
   },
   "file_extension": ".py",
   "mimetype": "text/x-python",
   "name": "python",
   "nbconvert_exporter": "python",
   "pygments_lexer": "ipython3",
   "version": "3.6.9"
  }
 },
 "nbformat": 4,
 "nbformat_minor": 1
}
