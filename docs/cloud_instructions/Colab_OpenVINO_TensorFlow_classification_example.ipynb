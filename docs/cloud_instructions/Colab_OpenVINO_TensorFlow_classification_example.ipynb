{
  "nbformat": 4,
  "nbformat_minor": 0,
  "metadata": {
    "colab": {
      "name": "Colab_OpenVINO_TensorFlow_classification_example.ipynb",
      "provenance": [],
      "collapsed_sections": []
    },
    "kernelspec": {
      "name": "python3",
      "display_name": "Python 3"
    }
  },
  "cells": [
    {
      "cell_type": "markdown",
      "metadata": {
        "id": "dT0u-5Ix-JG5"
      },
      "source": [
        "[![Open In Colab](https://colab.research.google.com/assets/colab-badge.svg)](https://colab.research.google.com/github/openvinotoolkit/openvino_tensorflow/blob/master/docs/cloud_instructions/Colab_OpenVINO_TensorFlow_classification_example.ipynb)"
      ]
    },
    {
      "cell_type": "markdown",
      "metadata": {
        "id": "m0NqXHZ9pg82"
      },
      "source": [
        "## INSTALL OpenVINO™ integration with TensorFlow\n"
      ]
    },
    {
      "cell_type": "code",
      "metadata": {
        "colab": {
          "base_uri": "https://localhost:8080/"
        },
        "id": "uOk7Kisgh1Nw",
        "outputId": "eb5fd6d3-c633-46a2-8ae3-cefb70b62763"
      },
      "source": [
        "# Upload the required wheel files, models and images in a google drive folder\n",
        "# Uncomment and run the below command to copy them in your current workspace\n",
        "#!cp /content/drive/MyDrive/TF-OV/working_dir_files/* . \n",
        "\n",
        "!pip -q install --upgrade pip\n",
        "!pip -q install pillow\n",
        "\n",
        "# Install stock TensorFlow\n",
        "!pip -q install tensorflow==2.5.0 \n",
        "\n",
        "# Install OpenVINO™ integration with TensorFlow\n",
        "!pip -q install openvino-tensorflow"
      ],
      "execution_count": 1,
      "outputs": [
        {
          "output_type": "stream",
          "name": "stdout",
          "text": [
            "\u001b[?25l\r\u001b[K     |▏                               | 10 kB 28.6 MB/s eta 0:00:01\r\u001b[K     |▍                               | 20 kB 32.0 MB/s eta 0:00:01\r\u001b[K     |▋                               | 30 kB 11.9 MB/s eta 0:00:01\r\u001b[K     |▉                               | 40 kB 9.4 MB/s eta 0:00:01\r\u001b[K     |█                               | 51 kB 5.2 MB/s eta 0:00:01\r\u001b[K     |█▎                              | 61 kB 5.7 MB/s eta 0:00:01\r\u001b[K     |█▌                              | 71 kB 6.1 MB/s eta 0:00:01\r\u001b[K     |█▊                              | 81 kB 6.3 MB/s eta 0:00:01\r\u001b[K     |██                              | 92 kB 4.7 MB/s eta 0:00:01\r\u001b[K     |██                              | 102 kB 5.1 MB/s eta 0:00:01\r\u001b[K     |██▎                             | 112 kB 5.1 MB/s eta 0:00:01\r\u001b[K     |██▌                             | 122 kB 5.1 MB/s eta 0:00:01\r\u001b[K     |██▊                             | 133 kB 5.1 MB/s eta 0:00:01\r\u001b[K     |███                             | 143 kB 5.1 MB/s eta 0:00:01\r\u001b[K     |███▏                            | 153 kB 5.1 MB/s eta 0:00:01\r\u001b[K     |███▍                            | 163 kB 5.1 MB/s eta 0:00:01\r\u001b[K     |███▋                            | 174 kB 5.1 MB/s eta 0:00:01\r\u001b[K     |███▉                            | 184 kB 5.1 MB/s eta 0:00:01\r\u001b[K     |████                            | 194 kB 5.1 MB/s eta 0:00:01\r\u001b[K     |████▏                           | 204 kB 5.1 MB/s eta 0:00:01\r\u001b[K     |████▍                           | 215 kB 5.1 MB/s eta 0:00:01\r\u001b[K     |████▋                           | 225 kB 5.1 MB/s eta 0:00:01\r\u001b[K     |████▉                           | 235 kB 5.1 MB/s eta 0:00:01\r\u001b[K     |█████                           | 245 kB 5.1 MB/s eta 0:00:01\r\u001b[K     |█████▎                          | 256 kB 5.1 MB/s eta 0:00:01\r\u001b[K     |█████▌                          | 266 kB 5.1 MB/s eta 0:00:01\r\u001b[K     |█████▊                          | 276 kB 5.1 MB/s eta 0:00:01\r\u001b[K     |██████                          | 286 kB 5.1 MB/s eta 0:00:01\r\u001b[K     |██████                          | 296 kB 5.1 MB/s eta 0:00:01\r\u001b[K     |██████▎                         | 307 kB 5.1 MB/s eta 0:00:01\r\u001b[K     |██████▌                         | 317 kB 5.1 MB/s eta 0:00:01\r\u001b[K     |██████▊                         | 327 kB 5.1 MB/s eta 0:00:01\r\u001b[K     |███████                         | 337 kB 5.1 MB/s eta 0:00:01\r\u001b[K     |███████▏                        | 348 kB 5.1 MB/s eta 0:00:01\r\u001b[K     |███████▍                        | 358 kB 5.1 MB/s eta 0:00:01\r\u001b[K     |███████▋                        | 368 kB 5.1 MB/s eta 0:00:01\r\u001b[K     |███████▉                        | 378 kB 5.1 MB/s eta 0:00:01\r\u001b[K     |████████                        | 389 kB 5.1 MB/s eta 0:00:01\r\u001b[K     |████████▏                       | 399 kB 5.1 MB/s eta 0:00:01\r\u001b[K     |████████▍                       | 409 kB 5.1 MB/s eta 0:00:01\r\u001b[K     |████████▋                       | 419 kB 5.1 MB/s eta 0:00:01\r\u001b[K     |████████▉                       | 430 kB 5.1 MB/s eta 0:00:01\r\u001b[K     |█████████                       | 440 kB 5.1 MB/s eta 0:00:01\r\u001b[K     |█████████▎                      | 450 kB 5.1 MB/s eta 0:00:01\r\u001b[K     |█████████▌                      | 460 kB 5.1 MB/s eta 0:00:01\r\u001b[K     |█████████▊                      | 471 kB 5.1 MB/s eta 0:00:01\r\u001b[K     |██████████                      | 481 kB 5.1 MB/s eta 0:00:01\r\u001b[K     |██████████▏                     | 491 kB 5.1 MB/s eta 0:00:01\r\u001b[K     |██████████▎                     | 501 kB 5.1 MB/s eta 0:00:01\r\u001b[K     |██████████▌                     | 512 kB 5.1 MB/s eta 0:00:01\r\u001b[K     |██████████▊                     | 522 kB 5.1 MB/s eta 0:00:01\r\u001b[K     |███████████                     | 532 kB 5.1 MB/s eta 0:00:01\r\u001b[K     |███████████▏                    | 542 kB 5.1 MB/s eta 0:00:01\r\u001b[K     |███████████▍                    | 552 kB 5.1 MB/s eta 0:00:01\r\u001b[K     |███████████▋                    | 563 kB 5.1 MB/s eta 0:00:01\r\u001b[K     |███████████▉                    | 573 kB 5.1 MB/s eta 0:00:01\r\u001b[K     |████████████                    | 583 kB 5.1 MB/s eta 0:00:01\r\u001b[K     |████████████▏                   | 593 kB 5.1 MB/s eta 0:00:01\r\u001b[K     |████████████▍                   | 604 kB 5.1 MB/s eta 0:00:01\r\u001b[K     |████████████▋                   | 614 kB 5.1 MB/s eta 0:00:01\r\u001b[K     |████████████▉                   | 624 kB 5.1 MB/s eta 0:00:01\r\u001b[K     |█████████████                   | 634 kB 5.1 MB/s eta 0:00:01\r\u001b[K     |█████████████▎                  | 645 kB 5.1 MB/s eta 0:00:01\r\u001b[K     |█████████████▌                  | 655 kB 5.1 MB/s eta 0:00:01\r\u001b[K     |█████████████▊                  | 665 kB 5.1 MB/s eta 0:00:01\r\u001b[K     |██████████████                  | 675 kB 5.1 MB/s eta 0:00:01\r\u001b[K     |██████████████▏                 | 686 kB 5.1 MB/s eta 0:00:01\r\u001b[K     |██████████████▎                 | 696 kB 5.1 MB/s eta 0:00:01\r\u001b[K     |██████████████▌                 | 706 kB 5.1 MB/s eta 0:00:01\r\u001b[K     |██████████████▊                 | 716 kB 5.1 MB/s eta 0:00:01\r\u001b[K     |███████████████                 | 727 kB 5.1 MB/s eta 0:00:01\r\u001b[K     |███████████████▏                | 737 kB 5.1 MB/s eta 0:00:01\r\u001b[K     |███████████████▍                | 747 kB 5.1 MB/s eta 0:00:01\r\u001b[K     |███████████████▋                | 757 kB 5.1 MB/s eta 0:00:01\r\u001b[K     |███████████████▉                | 768 kB 5.1 MB/s eta 0:00:01\r\u001b[K     |████████████████                | 778 kB 5.1 MB/s eta 0:00:01\r\u001b[K     |████████████████▎               | 788 kB 5.1 MB/s eta 0:00:01\r\u001b[K     |████████████████▍               | 798 kB 5.1 MB/s eta 0:00:01\r\u001b[K     |████████████████▋               | 808 kB 5.1 MB/s eta 0:00:01\r\u001b[K     |████████████████▉               | 819 kB 5.1 MB/s eta 0:00:01\r\u001b[K     |█████████████████               | 829 kB 5.1 MB/s eta 0:00:01\r\u001b[K     |█████████████████▎              | 839 kB 5.1 MB/s eta 0:00:01\r\u001b[K     |█████████████████▌              | 849 kB 5.1 MB/s eta 0:00:01\r\u001b[K     |█████████████████▊              | 860 kB 5.1 MB/s eta 0:00:01\r\u001b[K     |██████████████████              | 870 kB 5.1 MB/s eta 0:00:01\r\u001b[K     |██████████████████▏             | 880 kB 5.1 MB/s eta 0:00:01\r\u001b[K     |██████████████████▎             | 890 kB 5.1 MB/s eta 0:00:01\r\u001b[K     |██████████████████▌             | 901 kB 5.1 MB/s eta 0:00:01\r\u001b[K     |██████████████████▊             | 911 kB 5.1 MB/s eta 0:00:01\r\u001b[K     |███████████████████             | 921 kB 5.1 MB/s eta 0:00:01\r\u001b[K     |███████████████████▏            | 931 kB 5.1 MB/s eta 0:00:01\r\u001b[K     |███████████████████▍            | 942 kB 5.1 MB/s eta 0:00:01\r\u001b[K     |███████████████████▋            | 952 kB 5.1 MB/s eta 0:00:01\r\u001b[K     |███████████████████▉            | 962 kB 5.1 MB/s eta 0:00:01\r\u001b[K     |████████████████████            | 972 kB 5.1 MB/s eta 0:00:01\r\u001b[K     |████████████████████▎           | 983 kB 5.1 MB/s eta 0:00:01\r\u001b[K     |████████████████████▍           | 993 kB 5.1 MB/s eta 0:00:01\r\u001b[K     |████████████████████▋           | 1.0 MB 5.1 MB/s eta 0:00:01\r\u001b[K     |████████████████████▉           | 1.0 MB 5.1 MB/s eta 0:00:01\r\u001b[K     |█████████████████████           | 1.0 MB 5.1 MB/s eta 0:00:01\r\u001b[K     |█████████████████████▎          | 1.0 MB 5.1 MB/s eta 0:00:01\r\u001b[K     |█████████████████████▌          | 1.0 MB 5.1 MB/s eta 0:00:01\r\u001b[K     |█████████████████████▊          | 1.1 MB 5.1 MB/s eta 0:00:01\r\u001b[K     |██████████████████████          | 1.1 MB 5.1 MB/s eta 0:00:01\r\u001b[K     |██████████████████████▏         | 1.1 MB 5.1 MB/s eta 0:00:01\r\u001b[K     |██████████████████████▍         | 1.1 MB 5.1 MB/s eta 0:00:01\r\u001b[K     |██████████████████████▌         | 1.1 MB 5.1 MB/s eta 0:00:01\r\u001b[K     |██████████████████████▊         | 1.1 MB 5.1 MB/s eta 0:00:01\r\u001b[K     |███████████████████████         | 1.1 MB 5.1 MB/s eta 0:00:01\r\u001b[K     |███████████████████████▏        | 1.1 MB 5.1 MB/s eta 0:00:01\r\u001b[K     |███████████████████████▍        | 1.1 MB 5.1 MB/s eta 0:00:01\r\u001b[K     |███████████████████████▋        | 1.1 MB 5.1 MB/s eta 0:00:01\r\u001b[K     |███████████████████████▉        | 1.2 MB 5.1 MB/s eta 0:00:01\r\u001b[K     |████████████████████████        | 1.2 MB 5.1 MB/s eta 0:00:01\r\u001b[K     |████████████████████████▎       | 1.2 MB 5.1 MB/s eta 0:00:01\r\u001b[K     |████████████████████████▍       | 1.2 MB 5.1 MB/s eta 0:00:01\r\u001b[K     |████████████████████████▋       | 1.2 MB 5.1 MB/s eta 0:00:01\r\u001b[K     |████████████████████████▉       | 1.2 MB 5.1 MB/s eta 0:00:01\r\u001b[K     |█████████████████████████       | 1.2 MB 5.1 MB/s eta 0:00:01\r\u001b[K     |█████████████████████████▎      | 1.2 MB 5.1 MB/s eta 0:00:01\r\u001b[K     |█████████████████████████▌      | 1.2 MB 5.1 MB/s eta 0:00:01\r\u001b[K     |█████████████████████████▊      | 1.2 MB 5.1 MB/s eta 0:00:01\r\u001b[K     |██████████████████████████      | 1.3 MB 5.1 MB/s eta 0:00:01\r\u001b[K     |██████████████████████████▏     | 1.3 MB 5.1 MB/s eta 0:00:01\r\u001b[K     |██████████████████████████▍     | 1.3 MB 5.1 MB/s eta 0:00:01\r\u001b[K     |██████████████████████████▌     | 1.3 MB 5.1 MB/s eta 0:00:01\r\u001b[K     |██████████████████████████▊     | 1.3 MB 5.1 MB/s eta 0:00:01\r\u001b[K     |███████████████████████████     | 1.3 MB 5.1 MB/s eta 0:00:01\r\u001b[K     |███████████████████████████▏    | 1.3 MB 5.1 MB/s eta 0:00:01\r\u001b[K     |███████████████████████████▍    | 1.3 MB 5.1 MB/s eta 0:00:01\r\u001b[K     |███████████████████████████▋    | 1.3 MB 5.1 MB/s eta 0:00:01\r\u001b[K     |███████████████████████████▉    | 1.4 MB 5.1 MB/s eta 0:00:01\r\u001b[K     |████████████████████████████    | 1.4 MB 5.1 MB/s eta 0:00:01\r\u001b[K     |████████████████████████████▎   | 1.4 MB 5.1 MB/s eta 0:00:01\r\u001b[K     |████████████████████████████▌   | 1.4 MB 5.1 MB/s eta 0:00:01\r\u001b[K     |████████████████████████████▋   | 1.4 MB 5.1 MB/s eta 0:00:01\r\u001b[K     |████████████████████████████▉   | 1.4 MB 5.1 MB/s eta 0:00:01\r\u001b[K     |█████████████████████████████   | 1.4 MB 5.1 MB/s eta 0:00:01\r\u001b[K     |█████████████████████████████▎  | 1.4 MB 5.1 MB/s eta 0:00:01\r\u001b[K     |█████████████████████████████▌  | 1.4 MB 5.1 MB/s eta 0:00:01\r\u001b[K     |█████████████████████████████▊  | 1.4 MB 5.1 MB/s eta 0:00:01\r\u001b[K     |██████████████████████████████  | 1.5 MB 5.1 MB/s eta 0:00:01\r\u001b[K     |██████████████████████████████▏ | 1.5 MB 5.1 MB/s eta 0:00:01\r\u001b[K     |██████████████████████████████▍ | 1.5 MB 5.1 MB/s eta 0:00:01\r\u001b[K     |██████████████████████████████▌ | 1.5 MB 5.1 MB/s eta 0:00:01\r\u001b[K     |██████████████████████████████▊ | 1.5 MB 5.1 MB/s eta 0:00:01\r\u001b[K     |███████████████████████████████ | 1.5 MB 5.1 MB/s eta 0:00:01\r\u001b[K     |███████████████████████████████▏| 1.5 MB 5.1 MB/s eta 0:00:01\r\u001b[K     |███████████████████████████████▍| 1.5 MB 5.1 MB/s eta 0:00:01\r\u001b[K     |███████████████████████████████▋| 1.5 MB 5.1 MB/s eta 0:00:01\r\u001b[K     |███████████████████████████████▉| 1.5 MB 5.1 MB/s eta 0:00:01\r\u001b[K     |████████████████████████████████| 1.6 MB 5.1 MB/s \n",
            "\u001b[?25h\u001b[33mWARNING: Running pip as the 'root' user can result in broken permissions and conflicting behaviour with the system package manager. It is recommended to use a virtual environment instead: https://pip.pypa.io/warnings/venv\u001b[0m\n",
            "\u001b[K     |████████████████████████████████| 454.3 MB 16 kB/s \n",
            "\u001b[K     |████████████████████████████████| 1.2 MB 46.2 MB/s \n",
            "\u001b[K     |████████████████████████████████| 462 kB 75.4 MB/s \n",
            "\u001b[K     |████████████████████████████████| 4.0 MB 39.3 MB/s \n",
            "\u001b[33mWARNING: Running pip as the 'root' user can result in broken permissions and conflicting behaviour with the system package manager. It is recommended to use a virtual environment instead: https://pip.pypa.io/warnings/venv\u001b[0m\n",
            "\u001b[K     |████████████████████████████████| 26.5 MB 103 kB/s \n",
            "\u001b[33mWARNING: Running pip as the 'root' user can result in broken permissions and conflicting behaviour with the system package manager. It is recommended to use a virtual environment instead: https://pip.pypa.io/warnings/venv\u001b[0m\n",
            "\u001b[?25h"
          ]
        }
      ]
    },
    {
      "cell_type": "code",
      "metadata": {
        "id": "sgy6S1B_rW9d",
        "colab": {
          "base_uri": "https://localhost:8080/"
        },
        "outputId": "e7c9c808-391c-44ee-8ab8-13f0ff7e1077"
      },
      "source": [
        "!ldd --version\n",
        "!python3 --version"
      ],
      "execution_count": 2,
      "outputs": [
        {
          "output_type": "stream",
          "name": "stdout",
          "text": [
            "ldd (Ubuntu GLIBC 2.27-3ubuntu1.2) 2.27\n",
            "Copyright (C) 2018 Free Software Foundation, Inc.\n",
            "This is free software; see the source for copying conditions.  There is NO\n",
            "warranty; not even for MERCHANTABILITY or FITNESS FOR A PARTICULAR PURPOSE.\n",
            "Written by Roland McGrath and Ulrich Drepper.\n",
            "Python 3.7.11\n"
          ]
        }
      ]
    },
    {
      "cell_type": "code",
      "metadata": {
        "colab": {
          "base_uri": "https://localhost:8080/"
        },
        "id": "2MkE439_ybZB",
        "outputId": "049f51c3-d064-401c-e502-ee263926d671"
      },
      "source": [
        "!git clone --quiet https://github.com/openvinotoolkit/openvino_tensorflow.git\n",
        "%cd openvino_tensorflow\n",
        "!git submodule init\n",
        "!git submodule update --recursive\n",
        "%cd ..\n"
      ],
      "execution_count": 3,
      "outputs": [
        {
          "output_type": "stream",
          "name": "stdout",
          "text": [
            "/content/openvino_tensorflow\n",
            "Submodule 'ocm' (https://github.com/intel/ocm) registered for path 'ocm'\n",
            "Cloning into '/content/openvino_tensorflow/ocm'...\n",
            "Submodule path 'ocm': checked out '7375fdb18c40904c58e826abbf22aa2470b739fa'\n",
            "/content\n"
          ]
        }
      ]
    },
    {
      "cell_type": "markdown",
      "metadata": {
        "id": "_D2yhLwy09P9"
      },
      "source": [
        "# Lets get the model"
      ]
    },
    {
      "cell_type": "code",
      "metadata": {
        "colab": {
          "base_uri": "https://localhost:8080/"
        },
        "id": "qXgPfp4HxtG2",
        "outputId": "992b87a0-5e95-431e-acaf-27f41ab0a8b4"
      },
      "source": [
        "!curl -L \"https://storage.googleapis.com/download.tensorflow.org/models/inception_v3_2016_08_28_frozen.pb.tar.gz\" | tar -C openvino_tensorflow/examples/data -xz \n"
      ],
      "execution_count": 4,
      "outputs": [
        {
          "output_type": "stream",
          "name": "stdout",
          "text": [
            "  % Total    % Received % Xferd  Average Speed   Time    Time     Time  Current\n",
            "                                 Dload  Upload   Total   Spent    Left  Speed\n",
            "100 84.5M  100 84.5M    0     0  51.8M      0  0:00:01  0:00:01 --:--:-- 51.8M\n"
          ]
        }
      ]
    },
    {
      "cell_type": "markdown",
      "metadata": {
        "id": "tDQDLFx69izd"
      },
      "source": [
        "# Now lets infer"
      ]
    },
    {
      "cell_type": "code",
      "metadata": {
        "id": "1EImyzDiiHGW"
      },
      "source": [
        "from __future__ import absolute_import, division, print_function, unicode_literals\n",
        "from tensorflow.keras import backend as K\n",
        "from IPython.display import HTML\n",
        "\n",
        "import tensorflow as tf\n",
        "import numpy as np\n",
        "import time\n",
        "import argparse\n",
        "import matplotlib.pyplot as plt\n",
        "import os\n",
        "import openvino_tensorflow as ovtf\n",
        "from subprocess import check_output, call\n"
      ],
      "execution_count": 5,
      "outputs": []
    },
    {
      "cell_type": "code",
      "metadata": {
        "id": "tzNof2kniUfj"
      },
      "source": [
        "def load_graph(model_file):\n",
        "    graph = tf.Graph()\n",
        "    graph_def = tf.compat.v1.GraphDef()\n",
        "\n",
        "    assert os.path.exists(model_file), \"Could not find directory\"\n",
        "    with open(model_file, \"rb\") as f:\n",
        "        graph_def.ParseFromString(f.read())\n",
        "    with graph.as_default():\n",
        "        tf.import_graph_def(graph_def)\n",
        "\n",
        "    return graph"
      ],
      "execution_count": 6,
      "outputs": []
    },
    {
      "cell_type": "code",
      "metadata": {
        "id": "h7Hlw2oDZXgu"
      },
      "source": [
        "\n",
        "def read_tensor_from_image_file(file_name,\n",
        "                                input_height=299,\n",
        "                                input_width=299,\n",
        "                                input_mean=0,\n",
        "                                input_std=255):\n",
        "    input_name = \"file_reader\"\n",
        "    output_name = \"normalized\"\n",
        "    file_reader = tf.io.read_file(file_name, input_name)\n",
        "    if file_name.endswith(\".png\"):\n",
        "        image_reader = tf.image.decode_png(\n",
        "            file_reader, channels=3, name=\"png_reader\")\n",
        "    elif file_name.endswith(\".gif\"):\n",
        "        image_reader = tf.squeeze(\n",
        "            tf.image.decode_gif(file_reader, name=\"gif_reader\"))\n",
        "    elif file_name.endswith(\".bmp\"):\n",
        "        image_reader = tf.image.decode_bmp(file_reader, name=\"bmp_reader\")\n",
        "    else:\n",
        "        image_reader = tf.image.decode_jpeg(\n",
        "            file_reader, channels=3, name=\"jpeg_reader\")\n",
        "    float_caster = tf.cast(image_reader, tf.float32)\n",
        "    dims_expander = tf.expand_dims(float_caster, 0)\n",
        "    resized = tf.compat.v1.image.resize_bilinear(dims_expander,\n",
        "                                                 [input_height, input_width])\n",
        "    normalized = tf.divide(tf.subtract(resized, [input_mean]), [input_std])\n",
        "    sess = tf.compat.v1.Session()\n",
        "    result = sess.run(normalized)\n",
        "\n",
        "    return result"
      ],
      "execution_count": 7,
      "outputs": []
    },
    {
      "cell_type": "code",
      "metadata": {
        "id": "Mt54fcWXZbZA"
      },
      "source": [
        "def load_labels(label_file):\n",
        "    label = []\n",
        "    proto_as_ascii_lines = tf.io.gfile.GFile(label_file).readlines()\n",
        "    for l in proto_as_ascii_lines:\n",
        "        label.append(l.rstrip())\n",
        "    return label"
      ],
      "execution_count": 8,
      "outputs": []
    },
    {
      "cell_type": "code",
      "metadata": {
        "id": "e812DUX92T43"
      },
      "source": [
        "def infer_openvino_tensorflow(model_file, input_layer, output_layer, file_name , input_height, input_width, input_mean, input_std, label_file):\n",
        "    print(\"CREATE MODEL - BEGIN\")\n",
        "    graph = load_graph(model_file)\n",
        "    print(\"CREATE MODEL - END\")\n",
        "\n",
        "    input_name = \"import/\" + input_layer\n",
        "    output_name = \"import/\" + output_layer\n",
        "    input_operation = graph.get_operation_by_name(input_name)\n",
        "    output_operation = graph.get_operation_by_name(output_name)\n",
        "\n",
        "\n",
        "    # update config params for openvino tensorflow\n",
        "    config = tf.compat.v1.ConfigProto()\n",
        "    config_ngraph_enabled = ovtf.update_config(config)\n",
        "\n",
        "    print(\"PREDICTION - BEGIN\") \n",
        "\n",
        "    with tf.compat.v1.Session(\n",
        "            graph=graph, config=config_ngraph_enabled) as sess:\n",
        "        t = read_tensor_from_image_file(\n",
        "            file_name,\n",
        "            input_height=input_height,\n",
        "            input_width=input_width,\n",
        "            input_mean=input_mean,\n",
        "            input_std=input_std)\n",
        "        # Warmup\n",
        "        results = sess.run(output_operation.outputs[0],\n",
        "                           {input_operation.outputs[0]: t})\n",
        "        # Run\n",
        "        \n",
        "        for num_times in range(10):\n",
        "            start = time.time()\n",
        "            results = sess.run(output_operation.outputs[0],\n",
        "                               {input_operation.outputs[0]: t})\n",
        "            elapsed = time.time() - start\n",
        "            print('Inference time in ms: %f' % (elapsed * 1000))\n",
        "            \n",
        "    print(\"PREDICTION - END\")\n",
        "    results = np.squeeze(results)\n",
        "\n",
        "    if label_file:\n",
        "        top_k = results.argsort()[-5:][::-1]\n",
        "        labels = load_labels(label_file)\n",
        "        for i in top_k:\n",
        "            print(labels[i], results[i])\n",
        "    else:\n",
        "        print(\"No label file provided. Cannot print classification results\")"
      ],
      "execution_count": 9,
      "outputs": []
    },
    {
      "cell_type": "code",
      "metadata": {
        "id": "5Wxwq5184tkt",
        "colab": {
          "base_uri": "https://localhost:8080/"
        },
        "outputId": "bbd3fe34-e195-489f-b8b9-ba10479bbad5"
      },
      "source": [
        "%cd openvino_tensorflow/examples/data/"
      ],
      "execution_count": 10,
      "outputs": [
        {
          "output_type": "stream",
          "name": "stdout",
          "text": [
            "/content/openvino_tensorflow/examples/data\n"
          ]
        }
      ]
    },
    {
      "cell_type": "code",
      "metadata": {
        "colab": {
          "base_uri": "https://localhost:8080/"
        },
        "id": "_Dr7HWdgZds6",
        "outputId": "336fde30-7164-4958-f374-8d352354e079"
      },
      "source": [
        "file_name = \"grace_hopper.jpg\"\n",
        "model_file = \"inception_v3_2016_08_28_frozen.pb\"\n",
        "label_file = \"imagenet_slim_labels.txt\"\n",
        "input_height = 299\n",
        "input_width = 299\n",
        "input_mean = 0\n",
        "input_std = 255\n",
        "input_layer = \"input\"\n",
        "output_layer = \"InceptionV3/Predictions/Reshape_1\"\n",
        "backend_name = \"CPU\"\n",
        "    \n",
        "\n",
        "#Print list of available backends\n",
        "print('Available Backends:')\n",
        "backends_list = ovtf.list_backends()\n",
        "for backend in backends_list:\n",
        "    print(backend)\n",
        "ovtf.set_backend(backend_name)\n",
        "\n",
        "print(\"OpenVINO TensorFlow is enabled\")\n",
        "infer_openvino_tensorflow(model_file, input_layer, output_layer, file_name, input_height, input_width, input_mean, input_std, label_file )\n",
        "\n"
      ],
      "execution_count": 11,
      "outputs": [
        {
          "output_type": "stream",
          "name": "stdout",
          "text": [
            "Available Backends:\n",
            "CPU\n",
            "OpenVINO TensorFlow is enabled\n",
            "CREATE MODEL - BEGIN\n",
            "CREATE MODEL - END\n",
            "PREDICTION - BEGIN\n",
            "Inference time in ms: 184.873104\n",
            "Inference time in ms: 184.407234\n",
            "Inference time in ms: 186.945200\n",
            "Inference time in ms: 180.281401\n",
            "Inference time in ms: 210.785627\n",
            "Inference time in ms: 222.540140\n",
            "Inference time in ms: 193.070412\n",
            "Inference time in ms: 189.622641\n",
            "Inference time in ms: 182.804585\n",
            "Inference time in ms: 189.886808\n",
            "PREDICTION - END\n",
            "military uniform 0.8343049\n",
            "mortarboard 0.021869816\n",
            "academic gown 0.010358169\n",
            "pickelhaube 0.008008191\n",
            "bulletproof vest 0.0053508924\n"
          ]
        }
      ]
    },
    {
      "cell_type": "code",
      "metadata": {
        "id": "nQXt492OASb8",
        "colab": {
          "base_uri": "https://localhost:8080/"
        },
        "outputId": "1c726825-050c-4dc0-9278-1f08ed35c7ce"
      },
      "source": [
        "#Disable\n",
        "ovtf.disable()\n",
        "print(\"\")\n",
        "print(\"\")\n",
        "print(\"OpenVINO TensorFlow is disabled\")\n",
        "infer_openvino_tensorflow(model_file, input_layer, output_layer, file_name, input_height, input_width, input_mean, input_std, label_file )\n",
        "ovtf.enable()\n"
      ],
      "execution_count": 12,
      "outputs": [
        {
          "output_type": "stream",
          "name": "stdout",
          "text": [
            "\n",
            "\n",
            "OpenVINO TensorFlow is disabled\n",
            "CREATE MODEL - BEGIN\n",
            "CREATE MODEL - END\n",
            "PREDICTION - BEGIN\n",
            "Inference time in ms: 236.246347\n",
            "Inference time in ms: 244.822025\n",
            "Inference time in ms: 232.927561\n",
            "Inference time in ms: 237.344265\n",
            "Inference time in ms: 243.419170\n",
            "Inference time in ms: 243.496656\n",
            "Inference time in ms: 240.562916\n",
            "Inference time in ms: 235.368252\n",
            "Inference time in ms: 239.874601\n",
            "Inference time in ms: 240.411282\n",
            "PREDICTION - END\n",
            "military uniform 0.8343058\n",
            "mortarboard 0.02186954\n",
            "academic gown 0.010358081\n",
            "pickelhaube 0.0080081895\n",
            "bulletproof vest 0.0053509064\n"
          ]
        }
      ]
    }
  ]
}