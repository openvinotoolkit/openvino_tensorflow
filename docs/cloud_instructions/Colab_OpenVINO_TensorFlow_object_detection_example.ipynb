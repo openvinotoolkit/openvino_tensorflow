{
  "nbformat": 4,
  "nbformat_minor": 0,
  "metadata": {
    "colab": {
      "name": "Colab_OpenVINO_TensorFlow_object_detection_example_v2.ipynb",
      "provenance": [],
      "collapsed_sections": []
    },
    "kernelspec": {
      "name": "python3",
      "display_name": "Python 3"
    }
  },
  "cells": [
    {
      "cell_type": "markdown",
      "metadata": {
        "id": "zEl4DrmhGyot"
      },
      "source": [
        "[![Open In Colab](https://colab.research.google.com/assets/colab-badge.svg)](https://colab.research.google.com/github/openvinotoolkit/openvino_tensorflow/blob/master/docs/cloud_instructions/Colab_OpenVINO_TensorFlow_object_detection_example.ipynb)"
      ]
    },
    {
      "cell_type": "markdown",
      "metadata": {
        "id": "m0NqXHZ9pg82"
      },
      "source": [
        "## INSTALL OpenVINO™ integration with TensorFlow\n"
      ]
    },
    {
      "cell_type": "code",
      "metadata": {
        "id": "uOk7Kisgh1Nw",
        "colab": {
          "base_uri": "https://localhost:8080/"
        },
        "outputId": "3ee3933a-002e-4deb-c4a5-3da9a41b898b"
      },
      "source": [
        "# Upload the required wheel files, models and images in a google drive folder\n",
        "# Uncomment and run the below command to copy them in your current workspace\n",
        "#!cp /content/drive/MyDrive/TF-OV/working_dir_files/* . \n",
        "\n",
        "!pip -q install --upgrade pip\n",
        "!pip -q install pillow"
      ],
      "execution_count": 1,
      "outputs": [
        {
          "output_type": "stream",
          "name": "stdout",
          "text": [
            "\u001b[?25l\r\u001b[K     |▏                               | 10 kB 30.7 MB/s eta 0:00:01\r\u001b[K     |▍                               | 20 kB 33.6 MB/s eta 0:00:01\r\u001b[K     |▋                               | 30 kB 37.8 MB/s eta 0:00:01\r\u001b[K     |▉                               | 40 kB 28.2 MB/s eta 0:00:01\r\u001b[K     |█                               | 51 kB 15.3 MB/s eta 0:00:01\r\u001b[K     |█▎                              | 61 kB 16.8 MB/s eta 0:00:01\r\u001b[K     |█▌                              | 71 kB 13.3 MB/s eta 0:00:01\r\u001b[K     |█▊                              | 81 kB 14.8 MB/s eta 0:00:01\r\u001b[K     |██                              | 92 kB 12.7 MB/s eta 0:00:01\r\u001b[K     |██                              | 102 kB 13.6 MB/s eta 0:00:01\r\u001b[K     |██▎                             | 112 kB 13.6 MB/s eta 0:00:01\r\u001b[K     |██▌                             | 122 kB 13.6 MB/s eta 0:00:01\r\u001b[K     |██▊                             | 133 kB 13.6 MB/s eta 0:00:01\r\u001b[K     |███                             | 143 kB 13.6 MB/s eta 0:00:01\r\u001b[K     |███▏                            | 153 kB 13.6 MB/s eta 0:00:01\r\u001b[K     |███▍                            | 163 kB 13.6 MB/s eta 0:00:01\r\u001b[K     |███▋                            | 174 kB 13.6 MB/s eta 0:00:01\r\u001b[K     |███▉                            | 184 kB 13.6 MB/s eta 0:00:01\r\u001b[K     |████                            | 194 kB 13.6 MB/s eta 0:00:01\r\u001b[K     |████▏                           | 204 kB 13.6 MB/s eta 0:00:01\r\u001b[K     |████▍                           | 215 kB 13.6 MB/s eta 0:00:01\r\u001b[K     |████▋                           | 225 kB 13.6 MB/s eta 0:00:01\r\u001b[K     |████▉                           | 235 kB 13.6 MB/s eta 0:00:01\r\u001b[K     |█████                           | 245 kB 13.6 MB/s eta 0:00:01\r\u001b[K     |█████▎                          | 256 kB 13.6 MB/s eta 0:00:01\r\u001b[K     |█████▌                          | 266 kB 13.6 MB/s eta 0:00:01\r\u001b[K     |█████▊                          | 276 kB 13.6 MB/s eta 0:00:01\r\u001b[K     |██████                          | 286 kB 13.6 MB/s eta 0:00:01\r\u001b[K     |██████                          | 296 kB 13.6 MB/s eta 0:00:01\r\u001b[K     |██████▎                         | 307 kB 13.6 MB/s eta 0:00:01\r\u001b[K     |██████▌                         | 317 kB 13.6 MB/s eta 0:00:01\r\u001b[K     |██████▊                         | 327 kB 13.6 MB/s eta 0:00:01\r\u001b[K     |███████                         | 337 kB 13.6 MB/s eta 0:00:01\r\u001b[K     |███████▏                        | 348 kB 13.6 MB/s eta 0:00:01\r\u001b[K     |███████▍                        | 358 kB 13.6 MB/s eta 0:00:01\r\u001b[K     |███████▋                        | 368 kB 13.6 MB/s eta 0:00:01\r\u001b[K     |███████▉                        | 378 kB 13.6 MB/s eta 0:00:01\r\u001b[K     |████████                        | 389 kB 13.6 MB/s eta 0:00:01\r\u001b[K     |████████▏                       | 399 kB 13.6 MB/s eta 0:00:01\r\u001b[K     |████████▍                       | 409 kB 13.6 MB/s eta 0:00:01\r\u001b[K     |████████▋                       | 419 kB 13.6 MB/s eta 0:00:01\r\u001b[K     |████████▉                       | 430 kB 13.6 MB/s eta 0:00:01\r\u001b[K     |█████████                       | 440 kB 13.6 MB/s eta 0:00:01\r\u001b[K     |█████████▎                      | 450 kB 13.6 MB/s eta 0:00:01\r\u001b[K     |█████████▌                      | 460 kB 13.6 MB/s eta 0:00:01\r\u001b[K     |█████████▊                      | 471 kB 13.6 MB/s eta 0:00:01\r\u001b[K     |██████████                      | 481 kB 13.6 MB/s eta 0:00:01\r\u001b[K     |██████████▏                     | 491 kB 13.6 MB/s eta 0:00:01\r\u001b[K     |██████████▎                     | 501 kB 13.6 MB/s eta 0:00:01\r\u001b[K     |██████████▌                     | 512 kB 13.6 MB/s eta 0:00:01\r\u001b[K     |██████████▊                     | 522 kB 13.6 MB/s eta 0:00:01\r\u001b[K     |███████████                     | 532 kB 13.6 MB/s eta 0:00:01\r\u001b[K     |███████████▏                    | 542 kB 13.6 MB/s eta 0:00:01\r\u001b[K     |███████████▍                    | 552 kB 13.6 MB/s eta 0:00:01\r\u001b[K     |███████████▋                    | 563 kB 13.6 MB/s eta 0:00:01\r\u001b[K     |███████████▉                    | 573 kB 13.6 MB/s eta 0:00:01\r\u001b[K     |████████████                    | 583 kB 13.6 MB/s eta 0:00:01\r\u001b[K     |████████████▏                   | 593 kB 13.6 MB/s eta 0:00:01\r\u001b[K     |████████████▍                   | 604 kB 13.6 MB/s eta 0:00:01\r\u001b[K     |████████████▋                   | 614 kB 13.6 MB/s eta 0:00:01\r\u001b[K     |████████████▉                   | 624 kB 13.6 MB/s eta 0:00:01\r\u001b[K     |█████████████                   | 634 kB 13.6 MB/s eta 0:00:01\r\u001b[K     |█████████████▎                  | 645 kB 13.6 MB/s eta 0:00:01\r\u001b[K     |█████████████▌                  | 655 kB 13.6 MB/s eta 0:00:01\r\u001b[K     |█████████████▊                  | 665 kB 13.6 MB/s eta 0:00:01\r\u001b[K     |██████████████                  | 675 kB 13.6 MB/s eta 0:00:01\r\u001b[K     |██████████████▏                 | 686 kB 13.6 MB/s eta 0:00:01\r\u001b[K     |██████████████▎                 | 696 kB 13.6 MB/s eta 0:00:01\r\u001b[K     |██████████████▌                 | 706 kB 13.6 MB/s eta 0:00:01\r\u001b[K     |██████████████▊                 | 716 kB 13.6 MB/s eta 0:00:01\r\u001b[K     |███████████████                 | 727 kB 13.6 MB/s eta 0:00:01\r\u001b[K     |███████████████▏                | 737 kB 13.6 MB/s eta 0:00:01\r\u001b[K     |███████████████▍                | 747 kB 13.6 MB/s eta 0:00:01\r\u001b[K     |███████████████▋                | 757 kB 13.6 MB/s eta 0:00:01\r\u001b[K     |███████████████▉                | 768 kB 13.6 MB/s eta 0:00:01\r\u001b[K     |████████████████                | 778 kB 13.6 MB/s eta 0:00:01\r\u001b[K     |████████████████▎               | 788 kB 13.6 MB/s eta 0:00:01\r\u001b[K     |████████████████▍               | 798 kB 13.6 MB/s eta 0:00:01\r\u001b[K     |████████████████▋               | 808 kB 13.6 MB/s eta 0:00:01\r\u001b[K     |████████████████▉               | 819 kB 13.6 MB/s eta 0:00:01\r\u001b[K     |█████████████████               | 829 kB 13.6 MB/s eta 0:00:01\r\u001b[K     |█████████████████▎              | 839 kB 13.6 MB/s eta 0:00:01\r\u001b[K     |█████████████████▌              | 849 kB 13.6 MB/s eta 0:00:01\r\u001b[K     |█████████████████▊              | 860 kB 13.6 MB/s eta 0:00:01\r\u001b[K     |██████████████████              | 870 kB 13.6 MB/s eta 0:00:01\r\u001b[K     |██████████████████▏             | 880 kB 13.6 MB/s eta 0:00:01\r\u001b[K     |██████████████████▎             | 890 kB 13.6 MB/s eta 0:00:01\r\u001b[K     |██████████████████▌             | 901 kB 13.6 MB/s eta 0:00:01\r\u001b[K     |██████████████████▊             | 911 kB 13.6 MB/s eta 0:00:01\r\u001b[K     |███████████████████             | 921 kB 13.6 MB/s eta 0:00:01\r\u001b[K     |███████████████████▏            | 931 kB 13.6 MB/s eta 0:00:01\r\u001b[K     |███████████████████▍            | 942 kB 13.6 MB/s eta 0:00:01\r\u001b[K     |███████████████████▋            | 952 kB 13.6 MB/s eta 0:00:01\r\u001b[K     |███████████████████▉            | 962 kB 13.6 MB/s eta 0:00:01\r\u001b[K     |████████████████████            | 972 kB 13.6 MB/s eta 0:00:01\r\u001b[K     |████████████████████▎           | 983 kB 13.6 MB/s eta 0:00:01\r\u001b[K     |████████████████████▍           | 993 kB 13.6 MB/s eta 0:00:01\r\u001b[K     |████████████████████▋           | 1.0 MB 13.6 MB/s eta 0:00:01\r\u001b[K     |████████████████████▉           | 1.0 MB 13.6 MB/s eta 0:00:01\r\u001b[K     |█████████████████████           | 1.0 MB 13.6 MB/s eta 0:00:01\r\u001b[K     |█████████████████████▎          | 1.0 MB 13.6 MB/s eta 0:00:01\r\u001b[K     |█████████████████████▌          | 1.0 MB 13.6 MB/s eta 0:00:01\r\u001b[K     |█████████████████████▊          | 1.1 MB 13.6 MB/s eta 0:00:01\r\u001b[K     |██████████████████████          | 1.1 MB 13.6 MB/s eta 0:00:01\r\u001b[K     |██████████████████████▏         | 1.1 MB 13.6 MB/s eta 0:00:01\r\u001b[K     |██████████████████████▍         | 1.1 MB 13.6 MB/s eta 0:00:01\r\u001b[K     |██████████████████████▌         | 1.1 MB 13.6 MB/s eta 0:00:01\r\u001b[K     |██████████████████████▊         | 1.1 MB 13.6 MB/s eta 0:00:01\r\u001b[K     |███████████████████████         | 1.1 MB 13.6 MB/s eta 0:00:01\r\u001b[K     |███████████████████████▏        | 1.1 MB 13.6 MB/s eta 0:00:01\r\u001b[K     |███████████████████████▍        | 1.1 MB 13.6 MB/s eta 0:00:01\r\u001b[K     |███████████████████████▋        | 1.1 MB 13.6 MB/s eta 0:00:01\r\u001b[K     |███████████████████████▉        | 1.2 MB 13.6 MB/s eta 0:00:01\r\u001b[K     |████████████████████████        | 1.2 MB 13.6 MB/s eta 0:00:01\r\u001b[K     |████████████████████████▎       | 1.2 MB 13.6 MB/s eta 0:00:01\r\u001b[K     |████████████████████████▍       | 1.2 MB 13.6 MB/s eta 0:00:01\r\u001b[K     |████████████████████████▋       | 1.2 MB 13.6 MB/s eta 0:00:01\r\u001b[K     |████████████████████████▉       | 1.2 MB 13.6 MB/s eta 0:00:01\r\u001b[K     |█████████████████████████       | 1.2 MB 13.6 MB/s eta 0:00:01\r\u001b[K     |█████████████████████████▎      | 1.2 MB 13.6 MB/s eta 0:00:01\r\u001b[K     |█████████████████████████▌      | 1.2 MB 13.6 MB/s eta 0:00:01\r\u001b[K     |█████████████████████████▊      | 1.2 MB 13.6 MB/s eta 0:00:01\r\u001b[K     |██████████████████████████      | 1.3 MB 13.6 MB/s eta 0:00:01\r\u001b[K     |██████████████████████████▏     | 1.3 MB 13.6 MB/s eta 0:00:01\r\u001b[K     |██████████████████████████▍     | 1.3 MB 13.6 MB/s eta 0:00:01\r\u001b[K     |██████████████████████████▌     | 1.3 MB 13.6 MB/s eta 0:00:01\r\u001b[K     |██████████████████████████▊     | 1.3 MB 13.6 MB/s eta 0:00:01\r\u001b[K     |███████████████████████████     | 1.3 MB 13.6 MB/s eta 0:00:01\r\u001b[K     |███████████████████████████▏    | 1.3 MB 13.6 MB/s eta 0:00:01\r\u001b[K     |███████████████████████████▍    | 1.3 MB 13.6 MB/s eta 0:00:01\r\u001b[K     |███████████████████████████▋    | 1.3 MB 13.6 MB/s eta 0:00:01\r\u001b[K     |███████████████████████████▉    | 1.4 MB 13.6 MB/s eta 0:00:01\r\u001b[K     |████████████████████████████    | 1.4 MB 13.6 MB/s eta 0:00:01\r\u001b[K     |████████████████████████████▎   | 1.4 MB 13.6 MB/s eta 0:00:01\r\u001b[K     |████████████████████████████▌   | 1.4 MB 13.6 MB/s eta 0:00:01\r\u001b[K     |████████████████████████████▋   | 1.4 MB 13.6 MB/s eta 0:00:01\r\u001b[K     |████████████████████████████▉   | 1.4 MB 13.6 MB/s eta 0:00:01\r\u001b[K     |█████████████████████████████   | 1.4 MB 13.6 MB/s eta 0:00:01\r\u001b[K     |█████████████████████████████▎  | 1.4 MB 13.6 MB/s eta 0:00:01\r\u001b[K     |█████████████████████████████▌  | 1.4 MB 13.6 MB/s eta 0:00:01\r\u001b[K     |█████████████████████████████▊  | 1.4 MB 13.6 MB/s eta 0:00:01\r\u001b[K     |██████████████████████████████  | 1.5 MB 13.6 MB/s eta 0:00:01\r\u001b[K     |██████████████████████████████▏ | 1.5 MB 13.6 MB/s eta 0:00:01\r\u001b[K     |██████████████████████████████▍ | 1.5 MB 13.6 MB/s eta 0:00:01\r\u001b[K     |██████████████████████████████▌ | 1.5 MB 13.6 MB/s eta 0:00:01\r\u001b[K     |██████████████████████████████▊ | 1.5 MB 13.6 MB/s eta 0:00:01\r\u001b[K     |███████████████████████████████ | 1.5 MB 13.6 MB/s eta 0:00:01\r\u001b[K     |███████████████████████████████▏| 1.5 MB 13.6 MB/s eta 0:00:01\r\u001b[K     |███████████████████████████████▍| 1.5 MB 13.6 MB/s eta 0:00:01\r\u001b[K     |███████████████████████████████▋| 1.5 MB 13.6 MB/s eta 0:00:01\r\u001b[K     |███████████████████████████████▉| 1.5 MB 13.6 MB/s eta 0:00:01\r\u001b[K     |████████████████████████████████| 1.6 MB 13.6 MB/s \n",
            "\u001b[?25h\u001b[33mWARNING: Running pip as the 'root' user can result in broken permissions and conflicting behaviour with the system package manager. It is recommended to use a virtual environment instead: https://pip.pypa.io/warnings/venv\u001b[0m\n"
          ]
        }
      ]
    },
    {
      "cell_type": "code",
      "metadata": {
        "id": "sgy6S1B_rW9d",
        "colab": {
          "base_uri": "https://localhost:8080/"
        },
        "outputId": "4e13f81f-1233-4c2f-c055-a4f9f13ada84"
      },
      "source": [
        "!ldd --version"
      ],
      "execution_count": 2,
      "outputs": [
        {
          "output_type": "stream",
          "name": "stdout",
          "text": [
            "ldd (Ubuntu GLIBC 2.27-3ubuntu1.2) 2.27\n",
            "Copyright (C) 2018 Free Software Foundation, Inc.\n",
            "This is free software; see the source for copying conditions.  There is NO\n",
            "warranty; not even for MERCHANTABILITY or FITNESS FOR A PARTICULAR PURPOSE.\n",
            "Written by Roland McGrath and Ulrich Drepper.\n"
          ]
        }
      ]
    },
    {
      "cell_type": "markdown",
      "metadata": {
        "id": "kVYX3McBIafu"
      },
      "source": [
        "# Lets get the model"
      ]
    },
    {
      "cell_type": "code",
      "metadata": {
        "colab": {
          "base_uri": "https://localhost:8080/"
        },
        "id": "jtoL7InRjmPy",
        "outputId": "325d50f5-b910-4451-c39c-ec9d227eea06"
      },
      "source": [
        "#steps to get yolov3_darknet\n",
        "!git clone --quiet https://github.com/openvinotoolkit/openvino_tensorflow\n",
        "%cd openvino_tensorflow\n",
        "!git submodule init\n",
        "!git submodule update --recursive\n",
        "%cd ..\n",
        "\n",
        "!apt install -qq virtualenv python3-venv\n",
        "!cd openvino_tensorflow/examples/ && sed -i 's@python3 -m venv env@ virtualenv --python=\"/usr/bin/python3\" env@g' convert_yolov3.sh && \\\n",
        " sed -i 's@pip install pillow@pip install pillow numpy==1.19.5@g' convert_yolov3.sh && bash convert_yolov3.sh &>/dev/null"
      ],
      "execution_count": null,
      "outputs": [
        {
          "output_type": "stream",
          "name": "stdout",
          "text": [
            "/content/openvino_tensorflow\n",
            "Submodule 'ocm' (https://github.com/intel/ocm) registered for path 'ocm'\n",
            "Cloning into '/content/openvino_tensorflow/ocm'...\n",
            "Submodule path 'ocm': checked out '7375fdb18c40904c58e826abbf22aa2470b739fa'\n",
            "/content\n",
            "The following additional packages will be installed:\n",
            "  python-pip-whl python3-pkg-resources python3-virtualenv python3.6-venv\n",
            "Suggested packages:\n",
            "  python3-setuptools\n",
            "The following NEW packages will be installed:\n",
            "  python-pip-whl python3-pkg-resources python3-venv python3-virtualenv\n",
            "  python3.6-venv virtualenv\n",
            "0 upgraded, 6 newly installed, 0 to remove and 40 not upgraded.\n",
            "Need to get 1,807 kB of archives.\n",
            "After this operation, 2,602 kB of additional disk space will be used.\n",
            "Selecting previously unselected package python-pip-whl.\n",
            "(Reading database ... 148492 files and directories currently installed.)\n",
            "Preparing to unpack .../0-python-pip-whl_9.0.1-2.3~ubuntu1.18.04.5_all.deb ...\n",
            "Unpacking python-pip-whl (9.0.1-2.3~ubuntu1.18.04.5) ...\n",
            "Selecting previously unselected package python3-pkg-resources.\n",
            "Preparing to unpack .../1-python3-pkg-resources_39.0.1-2_all.deb ...\n",
            "Unpacking python3-pkg-resources (39.0.1-2) ...\n",
            "Selecting previously unselected package python3.6-venv.\n",
            "Preparing to unpack .../2-python3.6-venv_3.6.9-1~18.04ubuntu1.4_amd64.deb ...\n",
            "Unpacking python3.6-venv (3.6.9-1~18.04ubuntu1.4) ...\n",
            "Selecting previously unselected package python3-venv.\n",
            "Preparing to unpack .../3-python3-venv_3.6.7-1~18.04_amd64.deb ...\n",
            "Unpacking python3-venv (3.6.7-1~18.04) ...\n",
            "Selecting previously unselected package python3-virtualenv.\n",
            "Preparing to unpack .../4-python3-virtualenv_15.1.0+ds-1.1_all.deb ...\n",
            "Unpacking python3-virtualenv (15.1.0+ds-1.1) ...\n",
            "Selecting previously unselected package virtualenv.\n",
            "Preparing to unpack .../5-virtualenv_15.1.0+ds-1.1_all.deb ...\n",
            "Unpacking virtualenv (15.1.0+ds-1.1) ...\n",
            "Setting up python-pip-whl (9.0.1-2.3~ubuntu1.18.04.5) ...\n",
            "Setting up python3.6-venv (3.6.9-1~18.04ubuntu1.4) ...\n",
            "Setting up python3-pkg-resources (39.0.1-2) ...\n",
            "Setting up python3-virtualenv (15.1.0+ds-1.1) ...\n",
            "Setting up virtualenv (15.1.0+ds-1.1) ...\n",
            "Setting up python3-venv (3.6.7-1~18.04) ...\n",
            "Processing triggers for man-db (2.8.3-2ubuntu0.1) ...\n"
          ]
        }
      ]
    },
    {
      "cell_type": "code",
      "metadata": {
        "id": "B8JTdrlue6Yr"
      },
      "source": [
        "# Install stock TensorFlow\n",
        "!pip -q install tensorflow==2.5.0 \n",
        "\n",
        "# Install OpenVINO™ integration with TensorFlow\n",
        "!pip -q install openvino-tensorflow\n",
        "\n",
        "!pip -q install openvino_tensorflow"
      ],
      "execution_count": null,
      "outputs": []
    },
    {
      "cell_type": "markdown",
      "metadata": {
        "id": "tDQDLFx69izd"
      },
      "source": [
        "# Now lets infer"
      ]
    },
    {
      "cell_type": "code",
      "metadata": {
        "id": "1EImyzDiiHGW"
      },
      "source": [
        "from __future__ import absolute_import, division, print_function, unicode_literals\n",
        "from tensorflow.keras import backend as K\n",
        "from IPython.display import HTML\n",
        "\n",
        "import argparse\n",
        "import os\n",
        "import numpy as np\n",
        "import tensorflow as tf\n",
        "import openvino_tensorflow as ovtf\n",
        "import time\n",
        "from PIL import Image, ImageFont, ImageDraw\n",
        "import cv2\n",
        "import openvino_tensorflow\n",
        "import matplotlib.pyplot as plt\n"
      ],
      "execution_count": null,
      "outputs": []
    },
    {
      "cell_type": "code",
      "metadata": {
        "id": "tzNof2kniUfj"
      },
      "source": [
        "def load_graph(model_file):\n",
        "    graph = tf.Graph()\n",
        "    graph_def = tf.compat.v1.GraphDef()\n",
        "\n",
        "    with open(model_file, \"rb\") as f:\n",
        "        graph_def.ParseFromString(f.read())\n",
        "    with graph.as_default():\n",
        "        tf.import_graph_def(graph_def)\n",
        "\n",
        "    return graph"
      ],
      "execution_count": null,
      "outputs": []
    },
    {
      "cell_type": "code",
      "metadata": {
        "id": "OHIUZ33qBJto"
      },
      "source": [
        "def letter_box_image(image_path, input_height, input_width,\n",
        "                     fill_value) -> np.ndarray:\n",
        "    image = Image.open(image_path)\n",
        "    height_ratio = float(input_height) / image.size[1]\n",
        "    width_ratio = float(input_width) / image.size[0]\n",
        "    fit_ratio = min(width_ratio, height_ratio)\n",
        "    fit_height = int(image.size[1] * fit_ratio)\n",
        "    fit_width = int(image.size[0] * fit_ratio)\n",
        "    fit_image = np.asarray(\n",
        "        image.resize((fit_width, fit_height), resample=Image.BILINEAR))\n",
        "\n",
        "    fill_value = np.full(fit_image.shape[2], fill_value, fit_image.dtype)\n",
        "    to_return = np.tile(fill_value, (input_height, input_width, 1))\n",
        "    pad_top = int(0.5 * (input_height - fit_height))\n",
        "    pad_left = int(0.5 * (input_width - fit_width))\n",
        "    to_return[pad_top:pad_top + fit_height, pad_left:pad_left +\n",
        "              fit_width] = fit_image\n",
        "\n",
        "    return to_return, image"
      ],
      "execution_count": null,
      "outputs": []
    },
    {
      "cell_type": "code",
      "metadata": {
        "id": "BwPfurPbFhzI"
      },
      "source": [
        "def load_coco_names(file_name):\n",
        "    names = {}\n",
        "    with open(file_name) as f:\n",
        "        for id, name in enumerate(f):\n",
        "            names[id] = name\n",
        "    return names"
      ],
      "execution_count": null,
      "outputs": []
    },
    {
      "cell_type": "code",
      "metadata": {
        "id": "ux9nJIPYFtAS"
      },
      "source": [
        "def letter_box_pos_to_original_pos(letter_pos, current_size,\n",
        "                                   ori_image_size) -> np.ndarray:\n",
        "    letter_pos = np.asarray(letter_pos, dtype=np.float)\n",
        "    current_size = np.asarray(current_size, dtype=np.float)\n",
        "    ori_image_size = np.asarray(ori_image_size, dtype=np.float)\n",
        "    final_ratio = min(current_size[0] / ori_image_size[0],\n",
        "                      current_size[1] / ori_image_size[1])\n",
        "    pad = 0.5 * (current_size - final_ratio * ori_image_size)\n",
        "    pad = pad.astype(np.int32)\n",
        "    to_return_pos = (letter_pos - pad) / final_ratio\n",
        "    return to_return_pos"
      ],
      "execution_count": null,
      "outputs": []
    },
    {
      "cell_type": "code",
      "metadata": {
        "id": "XNM1vS3ZGB5f"
      },
      "source": [
        "def convert_to_original_size(box, size, original_size, is_letter_box_image):\n",
        "    if is_letter_box_image:\n",
        "        box = box.reshape(2, 2)\n",
        "        box[0, :] = letter_box_pos_to_original_pos(box[0, :], size,\n",
        "                                                   original_size)\n",
        "        box[1, :] = letter_box_pos_to_original_pos(box[1, :], size,\n",
        "                                                   original_size)\n",
        "    else:\n",
        "        ratio = original_size / size\n",
        "        box = box.reshape(2, 2) * ratio\n",
        "    return list(box.reshape(-1))"
      ],
      "execution_count": null,
      "outputs": []
    },
    {
      "cell_type": "code",
      "metadata": {
        "id": "JVu59xWpGD7A"
      },
      "source": [
        "def draw_boxes(boxes, img, cls_names, detection_size, is_letter_box_image):\n",
        "    draw = ImageDraw.Draw(img)\n",
        "    for cls, bboxs in boxes.items():\n",
        "        color = (256, 256, 256)\n",
        "        for box, score in bboxs:\n",
        "            box = convert_to_original_size(box, np.array(detection_size),\n",
        "                                           np.array(img.size),\n",
        "                                           is_letter_box_image)\n",
        "            draw.rectangle(box, outline=color)\n",
        "            draw.text(\n",
        "                box[:2],\n",
        "                '{} {:.2f}%'.format(cls_names[cls], score * 100),\n",
        "                fill=color)"
      ],
      "execution_count": null,
      "outputs": []
    },
    {
      "cell_type": "code",
      "metadata": {
        "id": "510Ce4AYGNPP"
      },
      "source": [
        "def iou(box1, box2):\n",
        "    b1_x0, b1_y0, b1_x1, b1_y1 = box1\n",
        "    b2_x0, b2_y0, b2_x1, b2_y1 = box2\n",
        "\n",
        "    int_x0 = max(b1_x0, b2_x0)\n",
        "    int_y0 = max(b1_y0, b2_y0)\n",
        "    int_x1 = min(b1_x1, b2_x1)\n",
        "    int_y1 = min(b1_y1, b2_y1)\n",
        "\n",
        "    int_area = (int_x1 - int_x0) * (int_y1 - int_y0)\n",
        "\n",
        "    b1_area = (b1_x1 - b1_x0) * (b1_y1 - b1_y0)\n",
        "    b2_area = (b2_x1 - b2_x0) * (b2_y1 - b2_y0)\n",
        "\n",
        "    iou = int_area / (b1_area + b2_area - int_area + 1e-05)\n",
        "\n",
        "    return iou"
      ],
      "execution_count": null,
      "outputs": []
    },
    {
      "cell_type": "code",
      "metadata": {
        "id": "sVZ6iZdiGVfM"
      },
      "source": [
        "def non_max_suppression(predictions_with_boxes,\n",
        "                        confidence_threshold,\n",
        "                        iou_threshold=0.4):\n",
        "    conf_mask = np.expand_dims(\n",
        "        (predictions_with_boxes[:, :, 4] > confidence_threshold), -1)\n",
        "    predictions = predictions_with_boxes * conf_mask\n",
        "\n",
        "    result = {}\n",
        "    for i, image_pred in enumerate(predictions):\n",
        "        shape = image_pred.shape\n",
        "        non_zero_idxs = np.nonzero(image_pred)\n",
        "        image_pred = image_pred[non_zero_idxs]\n",
        "        image_pred = image_pred.reshape(-1, shape[-1])\n",
        "\n",
        "        bbox_attrs = image_pred[:, :5]\n",
        "        classes = image_pred[:, 5:]\n",
        "        classes = np.argmax(classes, axis=-1)\n",
        "\n",
        "        unique_classes = list(set(classes.reshape(-1)))\n",
        "\n",
        "        for cls in unique_classes:\n",
        "            cls_mask = classes == cls\n",
        "            cls_boxes = bbox_attrs[np.nonzero(cls_mask)]\n",
        "            cls_boxes = cls_boxes[cls_boxes[:, -1].argsort()[::-1]]\n",
        "            cls_scores = cls_boxes[:, -1]\n",
        "            cls_boxes = cls_boxes[:, :-1]\n",
        "\n",
        "            while len(cls_boxes) > 0:\n",
        "                box = cls_boxes[0]\n",
        "                score = cls_scores[0]\n",
        "                if not cls in result:\n",
        "                    result[cls] = []\n",
        "                result[cls].append((box, score))\n",
        "                cls_boxes = cls_boxes[1:]\n",
        "                # iou threshold check for overlapping boxes\n",
        "                ious = np.array([iou(box, x) for x in cls_boxes])\n",
        "                iou_mask = ious < iou_threshold\n",
        "                cls_boxes = cls_boxes[np.nonzero(iou_mask)]\n",
        "                cls_scores = cls_scores[np.nonzero(iou_mask)]\n",
        "    return result"
      ],
      "execution_count": null,
      "outputs": []
    },
    {
      "cell_type": "code",
      "metadata": {
        "id": "byhRm6n6ki8Q"
      },
      "source": [
        "def infer_openvino_tensorflow(model_file, input_layer, output_layer, image_file , input_height, input_width, input_mean, input_std, label_file):\n",
        "    print(\"CREATE MODEL - BEGIN\")\n",
        "\n",
        "    # Load graph and process input image\n",
        "    graph = load_graph(model_file)\n",
        "    print(\"CREATE MODEL - END\")\n",
        "\n",
        "    img_resized, img = letter_box_image(image_file, input_height, input_width,\n",
        "                                       128)\n",
        "    img_resized = img_resized.astype(np.float32)\n",
        "    if label_file:\n",
        "        classes = load_coco_names(label_file)\n",
        "    input_name = \"import/\" + input_layer\n",
        "    output_name = \"import/\" + output_layer\n",
        "    input_operation = graph.get_operation_by_name(input_name)\n",
        "    output_operation = graph.get_operation_by_name(output_name)\n",
        "\n",
        "    # update config params for openvino tensorflow addon\n",
        "    config = tf.compat.v1.ConfigProto()\n",
        "    config_ngraph_enabled = ovtf.update_config(config)\n",
        "\n",
        "    print(\"PREDICTION - BEGIN\")\n",
        "    \n",
        "    with tf.compat.v1.Session(\n",
        "            graph=graph, config=config_ngraph_enabled) as sess:\n",
        "        # Warmup\n",
        "        detected_boxes = sess.run(output_operation.outputs[0],\n",
        "                                  {input_operation.outputs[0]: [img_resized]})\n",
        "        # Run\n",
        "        import time\n",
        "        start = time.time()\n",
        "        detected_boxes = sess.run(output_operation.outputs[0],\n",
        "                                  {input_operation.outputs[0]: [img_resized]})\n",
        "        elapsed = time.time() - start\n",
        "        print('Inference time in ms: %f' % (elapsed * 1000))\n",
        "    print(\"PREDICTION - END\")  \n",
        "       \n",
        "    # apply non max suppresion, draw boxes and save updated image\n",
        "    filtered_boxes = non_max_suppression(detected_boxes, conf_threshold,\n",
        "                                        iou_threshold)\n",
        "    draw_boxes(filtered_boxes, img, classes, (input_width, input_height), True)\n",
        "    if output_dir:\n",
        "        img.save(os.path.join(output_dir, \"detections.jpg\"))\n",
        "    else:\n",
        "        img.save(\"detections.jpg\")\n",
        "    plt.imshow(img)   "
      ],
      "execution_count": null,
      "outputs": []
    },
    {
      "cell_type": "code",
      "metadata": {
        "id": "6wyXyuylGlRP"
      },
      "source": [
        "   %cd openvino_tensorflow/examples/\n",
        "   image_file = \"data/grace_hopper.jpg\"\n",
        "   model_file = \"data/yolo_v3_darknet.pb\"\n",
        "   label_file = \"data/coco.names\"\n",
        "   input_height = 416\n",
        "   input_width = 416\n",
        "   input_mean = 0\n",
        "   input_std = 255\n",
        "   input_layer = \"inputs\"\n",
        "   output_layer = \"output_boxes\"\n",
        "   backend_name = \"CPU\"\n",
        "   output_dir = \".\"\n",
        "   conf_threshold = 0.6\n",
        "   iou_threshold = 0.5\n",
        "   \n",
        "   #Print list of available backends\n",
        "   print('Available Backends:')\n",
        "   backends_list = ovtf.list_backends()\n",
        "   for backend in backends_list:\n",
        "       print(backend)\n",
        "   ovtf.set_backend(backend_name)\n",
        "\n",
        "   print(\"OpenVINO TensorFlow is enabled\")\n",
        "   infer_openvino_tensorflow(model_file, input_layer, output_layer, image_file, input_height, input_width, input_mean, input_std, label_file )\n",
        "   "
      ],
      "execution_count": null,
      "outputs": []
    },
    {
      "cell_type": "code",
      "metadata": {
        "id": "s60Eml7RKbCp"
      },
      "source": [
        "#Disable\n",
        "ovtf.disable()\n",
        "print(\"\")\n",
        "print(\"\")\n",
        "print(\"OpenVINO TensorFlow is disabled\")\n",
        "infer_openvino_tensorflow(model_file, input_layer, output_layer, image_file, input_height, input_width, input_mean, input_std, label_file )\n",
        "ovtf.enable()\n"
      ],
      "execution_count": null,
      "outputs": []
    }
  ]
}